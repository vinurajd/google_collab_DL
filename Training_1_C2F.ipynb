{
  "nbformat": 4,
  "nbformat_minor": 0,
  "metadata": {
    "colab": {
      "name": "Untitled1.ipynb",
      "provenance": [],
      "authorship_tag": "ABX9TyOmCgYLhqmGsjF13NulRFYW",
      "include_colab_link": true
    },
    "kernelspec": {
      "name": "python3",
      "display_name": "Python 3"
    }
  },
  "cells": [
    {
      "cell_type": "markdown",
      "metadata": {
        "id": "view-in-github",
        "colab_type": "text"
      },
      "source": [
        "<a href=\"https://colab.research.google.com/github/vinurajd/google_collab_DL/blob/master/Training_1_C2F.ipynb\" target=\"_parent\"><img src=\"https://colab.research.google.com/assets/colab-badge.svg\" alt=\"Open In Colab\"/></a>"
      ]
    },
    {
      "cell_type": "code",
      "metadata": {
        "id": "N0Tnu97YftfG",
        "colab_type": "code",
        "colab": {
          "base_uri": "https://localhost:8080/",
          "height": 34
        },
        "outputId": "1ccdea04-8698-4a13-c186-c891e53c956d"
      },
      "source": [
        "print(\"Hello World\")"
      ],
      "execution_count": null,
      "outputs": [
        {
          "output_type": "stream",
          "text": [
            "Hello World\n"
          ],
          "name": "stdout"
        }
      ]
    },
    {
      "cell_type": "code",
      "metadata": {
        "id": "GPkpFxjqgTsE",
        "colab_type": "code",
        "colab": {
          "base_uri": "https://localhost:8080/",
          "height": 34
        },
        "outputId": "0431143c-83df-45cb-a95f-92568bdf4993"
      },
      "source": [
        "import tensorflow as tf\n",
        "import numpy as np\n",
        "#tf.logging.set_verbosity(tf.logging.ERROR)\n",
        "\n",
        "cel_g = np.array([-40,-10,0,8,15,22,38], dtype=float)\n",
        "f_val = np.array([-40,14,32,46,59,72,100], dtype=float)\n",
        "\n",
        "m_0 = tf.keras.layers.Dense(units=1, input_shape=[1])\n",
        "model_base = tf.keras.Sequential([m_0])\n",
        "\n",
        "model_base.compile(optimizer=tf.keras.optimizers.Adam(0.1),loss='mean_squared_error')\n",
        "\n",
        "model_hist = model_base.fit(x=cel_g,y=f_val,epochs=800,verbose=False)\n",
        "print(\"Training complete\")"
      ],
      "execution_count": null,
      "outputs": [
        {
          "output_type": "stream",
          "text": [
            "Training complete\n"
          ],
          "name": "stdout"
        }
      ]
    },
    {
      "cell_type": "code",
      "metadata": {
        "id": "_m3xrHAKjMOj",
        "colab_type": "code",
        "colab": {
          "base_uri": "https://localhost:8080/",
          "height": 296
        },
        "outputId": "1f431cf5-8fd9-4822-af5e-0cf641896887"
      },
      "source": [
        "import matplotlib.pyplot as plt\n",
        "plt.xlabel(\"Epochs\")\n",
        "plt.ylabel(\"Loss\")\n",
        "plt.plot(model_hist.history[\"loss\"])\n"
      ],
      "execution_count": null,
      "outputs": [
        {
          "output_type": "execute_result",
          "data": {
            "text/plain": [
              "[<matplotlib.lines.Line2D at 0x7ff070b709b0>]"
            ]
          },
          "metadata": {
            "tags": []
          },
          "execution_count": 12
        },
        {
          "output_type": "display_data",
          "data": {
            "image/png": "[encoded data removed]",
            "text/plain": [
              "<Figure size 432x288 with 1 Axes>"
            ]
          },
          "metadata": {
            "tags": [],
            "needs_background": "light"
          }
        }
      ]
    },
    {
      "cell_type": "code",
      "metadata": {
        "id": "bPheSBBPkSgC",
        "colab_type": "code",
        "colab": {
          "base_uri": "https://localhost:8080/",
          "height": 34
        },
        "outputId": "197f4271-f694-4519-d2e8-2ca9c623d759"
      },
      "source": [
        "model_base.predict([100.0])"
      ],
      "execution_count": null,
      "outputs": [
        {
          "output_type": "execute_result",
          "data": {
            "text/plain": [
              "array([[211.71573]], dtype=float32)"
            ]
          },
          "metadata": {
            "tags": []
          },
          "execution_count": 14
        }
      ]
    },
    {
      "cell_type": "code",
      "metadata": {
        "id": "oHtKl8sgkyNJ",
        "colab_type": "code",
        "colab": {
          "base_uri": "https://localhost:8080/",
          "height": 34
        },
        "outputId": "d808b62f-5ee9-4c27-cfd6-a1d6d4f441d1"
      },
      "source": [
        "print(\"Weights {}\", format(m_0.get_weights()))"
      ],
      "execution_count": null,
      "outputs": [
        {
          "output_type": "stream",
          "text": [
            "Weights {} [array([[1.7997006]], dtype=float32), array([31.745667], dtype=float32)]\n"
          ],
          "name": "stdout"
        }
      ]
    },
    {
      "cell_type": "code",
      "metadata": {
        "id": "RI-qmU0elFZi",
        "colab_type": "code",
        "colab": {}
      },
      "source": [
        "l_0=tf.keras.layers.Dense(units=4,input_shape=[1])\n",
        "l_1=tf.keras.layers.Dense(units=4)\n",
        "l_2=tf.keras.layers.Dense(units=1)\n",
        "\n",
        "model_1 = tf.keras.Sequential([l_0,l_1,l_2])"
      ],
      "execution_count": null,
      "outputs": []
    },
    {
      "cell_type": "code",
      "metadata": {
        "id": "8nGsqhhQluB3",
        "colab_type": "code",
        "colab": {}
      },
      "source": [
        "model_1.compile(optimizer=tf.keras.optimizers.Adam(0.1),loss=\"mean_squared_error\")"
      ],
      "execution_count": null,
      "outputs": []
    },
    {
      "cell_type": "code",
      "metadata": {
        "id": "8COjDCuhlt6n",
        "colab_type": "code",
        "colab": {
          "base_uri": "https://localhost:8080/",
          "height": 34
        },
        "outputId": "c2efa609-c5e8-44da-853c-fc6b920dfcf3"
      },
      "source": [
        "model_hist_1 = model_1.fit(x=cel_g,y=f_val, epochs=500,verbose=False)\n",
        "print(\"Finished training\")"
      ],
      "execution_count": null,
      "outputs": [
        {
          "output_type": "stream",
          "text": [
            "Finished training\n"
          ],
          "name": "stdout"
        }
      ]
    },
    {
      "cell_type": "code",
      "metadata": {
        "id": "VzhOLpsWmRGY",
        "colab_type": "code",
        "colab": {
          "base_uri": "https://localhost:8080/",
          "height": 282
        },
        "outputId": "4df64ff4-b6ea-4058-905c-3981dd45a07e"
      },
      "source": [
        "plt.plot(model_hist_1.history[\"loss\"])"
      ],
      "execution_count": null,
      "outputs": [
        {
          "output_type": "execute_result",
          "data": {
            "text/plain": [
              "[<matplotlib.lines.Line2D at 0x7ff06e761c18>]"
            ]
          },
          "metadata": {
            "tags": []
          },
          "execution_count": 25
        },
        {
          "output_type": "display_data",
          "data": {
            "image/png": "[encoded data removed]",
            "text/plain": [
              "<Figure size 432x288 with 1 Axes>"
            ]
          },
          "metadata": {
            "tags": [],
            "needs_background": "light"
          }
        }
      ]
    },
    {
      "cell_type": "code",
      "metadata": {
        "id": "AcLhsHMNmuEL",
        "colab_type": "code",
        "colab": {
          "base_uri": "https://localhost:8080/",
          "height": 34
        },
        "outputId": "078f6d9a-9350-4cab-fb7f-b3e94a24fa60"
      },
      "source": [
        "model_1.predict([100.0])"
      ],
      "execution_count": null,
      "outputs": [
        {
          "output_type": "execute_result",
          "data": {
            "text/plain": [
              "array([[211.74744]], dtype=float32)"
            ]
          },
          "metadata": {
            "tags": []
          },
          "execution_count": 26
        }
      ]
    }
  ]
}