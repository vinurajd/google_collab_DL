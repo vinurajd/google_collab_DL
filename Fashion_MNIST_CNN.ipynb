{
  "nbformat": 4,
  "nbformat_minor": 0,
  "metadata": {
    "colab": {
      "name": "Fashion_MNIST_CNN.ipynb",
      "provenance": [],
      "collapsed_sections": [],
      "authorship_tag": "ABX9TyMrPf5XollsKKPOFyz890EZ",
      "include_colab_link": true
    },
    "kernelspec": {
      "name": "python3",
      "display_name": "Python 3"
    },
    "accelerator": "GPU"
  },
  "cells": [
    {
      "cell_type": "markdown",
      "metadata": {
        "id": "view-in-github",
        "colab_type": "text"
      },
      "source": [
        "<a href=\"https://colab.research.google.com/github/vinurajd/google_collab_DL/blob/master/Fashion_MNIST_CNN.ipynb\" target=\"_parent\"><img src=\"https://colab.research.google.com/assets/colab-badge.svg\" alt=\"Open In Colab\"/></a>"
      ]
    },
    {
      "cell_type": "code",
      "metadata": {
        "id": "5nGCSRBdTz15",
        "colab_type": "code",
        "colab": {}
      },
      "source": [
        "import tensorflow as tf\n",
        "import tensorflow_datasets as tfds\n",
        "import math \n",
        "import numpy\n",
        "import logging\n",
        "import matplotlib.pyplot as plt"
      ],
      "execution_count": 129,
      "outputs": []
    },
    {
      "cell_type": "code",
      "metadata": {
        "id": "NXcR7BVcULSd",
        "colab_type": "code",
        "colab": {}
      },
      "source": [
        "tfds.disable_progress_bar()\n",
        "\n",
        "logger = tf.get_logger()\n",
        "logger.setLevel(logging.ERROR)"
      ],
      "execution_count": 130,
      "outputs": []
    },
    {
      "cell_type": "code",
      "metadata": {
        "id": "4cszrn0QUmVC",
        "colab_type": "code",
        "colab": {}
      },
      "source": [
        "dataset, metadata = tfds.load('fashion_mnist', as_supervised=True, with_info=True)\n",
        "train_data, test_data = dataset['train'], dataset['test']"
      ],
      "execution_count": 131,
      "outputs": []
    },
    {
      "cell_type": "code",
      "metadata": {
        "id": "9NkGg5IJWDfS",
        "colab_type": "code",
        "colab": {}
      },
      "source": [
        "class_names = ['T-shirt/top', 'Trouser', 'Pullover', 'Dress', 'Coat',\n",
        "               'Sandal',      'Shirt',   'Sneaker',  'Bag',   'Ankle boot']"
      ],
      "execution_count": 132,
      "outputs": []
    },
    {
      "cell_type": "code",
      "metadata": {
        "id": "24K4VuInWGwq",
        "colab_type": "code",
        "colab": {}
      },
      "source": [
        "num_train_examples = metadata.splits['train'].num_examples\n",
        "num_test_examples = metadata.splits['test'].num_examples\n",
        "print(\"Number of training examples: {}\".format(num_train_examples))\n",
        "print(\"Number of test examples:     {}\".format(num_test_examples))"
      ],
      "execution_count": null,
      "outputs": []
    },
    {
      "cell_type": "code",
      "metadata": {
        "id": "C6sbgqKjWaOi",
        "colab_type": "code",
        "colab": {}
      },
      "source": [
        "def normalize_img(img, labels):\n",
        "  img = tf.cast(img,tf.float32)/255\n",
        "  return img, labels"
      ],
      "execution_count": 134,
      "outputs": []
    },
    {
      "cell_type": "code",
      "metadata": {
        "id": "wCXGaCxSWpZn",
        "colab_type": "code",
        "colab": {}
      },
      "source": [
        "train_data=train_data.map(normalize_img)\n",
        "test_data=test_data.map(normalize_img)\n",
        "\n",
        "train_data=train_data.cache()\n",
        "test_data=test_data.cache()"
      ],
      "execution_count": 135,
      "outputs": []
    },
    {
      "cell_type": "code",
      "metadata": {
        "id": "0z5Tzn6JWyPh",
        "colab_type": "code",
        "colab": {}
      },
      "source": [
        "i=0\n",
        "plt.figure(figsize=(10,10))\n",
        "for (img, label) in test_data.take(25):\n",
        "  img=img.numpy().reshape((28,28))\n",
        "  plt.xticks([])\n",
        "  plt.yticks([])\n",
        "  plt.subplot(5,5,i+1)\n",
        "  plt.imshow(img,cmap=plt.cm.binary)\n",
        "  plt.xlabel(class_names[label])\n",
        "  i+=1\n",
        "\n",
        "plt.show()"
      ],
      "execution_count": null,
      "outputs": []
    },
    {
      "cell_type": "code",
      "metadata": {
        "id": "cwfSeB04YVri",
        "colab_type": "code",
        "colab": {}
      },
      "source": [
        "cnn_model = tf.keras.Sequential([\n",
        "tf.keras.layers.Conv2D(128,(3,3),padding='same',activation=tf.nn.relu,input_shape=(28,28,1)),\n",
        "tf.keras.layers.MaxPooling2D((2,2),strides=2),\n",
        "tf.keras.layers.Conv2D(256,(3,3),activation=tf.nn.relu,padding='same'),\n",
        "tf.keras.layers.MaxPooling2D((2,2),strides=2),\n",
        "tf.keras.layers.Conv2D(512,(3,3),activation=tf.nn.relu,padding='same'),\n",
        "tf.keras.layers.MaxPooling2D((2,2),strides=2),\n",
        "tf.keras.layers.Flatten(),\n",
        "tf.keras.layers.Dense(128,activation=tf.nn.relu),\n",
        "tf.keras.layers.Dense(10,activation=tf.nn.softmax)                                 \n",
        "])"
      ],
      "execution_count": 137,
      "outputs": []
    },
    {
      "cell_type": "code",
      "metadata": {
        "id": "8xVy8qv8ZN9r",
        "colab_type": "code",
        "colab": {
          "base_uri": "https://localhost:8080/",
          "height": 464
        },
        "outputId": "0eac7334-1cfc-4e4f-f009-f6a83dd5b270"
      },
      "source": [
        "cnn_model.summary()"
      ],
      "execution_count": 138,
      "outputs": [
        {
          "output_type": "stream",
          "text": [
            "Model: \"sequential_20\"\n",
            "_________________________________________________________________\n",
            "Layer (type)                 Output Shape              Param #   \n",
            "=================================================================\n",
            "conv2d_51 (Conv2D)           (None, 28, 28, 128)       1280      \n",
            "_________________________________________________________________\n",
            "max_pooling2d_51 (MaxPooling (None, 14, 14, 128)       0         \n",
            "_________________________________________________________________\n",
            "conv2d_52 (Conv2D)           (None, 14, 14, 256)       295168    \n",
            "_________________________________________________________________\n",
            "max_pooling2d_52 (MaxPooling (None, 7, 7, 256)         0         \n",
            "_________________________________________________________________\n",
            "conv2d_53 (Conv2D)           (None, 7, 7, 512)         1180160   \n",
            "_________________________________________________________________\n",
            "max_pooling2d_53 (MaxPooling (None, 3, 3, 512)         0         \n",
            "_________________________________________________________________\n",
            "flatten_20 (Flatten)         (None, 4608)              0         \n",
            "_________________________________________________________________\n",
            "dense_43 (Dense)             (None, 128)               589952    \n",
            "_________________________________________________________________\n",
            "dense_44 (Dense)             (None, 10)                1290      \n",
            "=================================================================\n",
            "Total params: 2,067,850\n",
            "Trainable params: 2,067,850\n",
            "Non-trainable params: 0\n",
            "_________________________________________________________________\n"
          ],
          "name": "stdout"
        }
      ]
    },
    {
      "cell_type": "code",
      "metadata": {
        "id": "KJMxHisXZTf5",
        "colab_type": "code",
        "colab": {}
      },
      "source": [
        "cnn_model.compile(loss=tf.losses.SparseCategoricalCrossentropy(),\n",
        "                  optimizer=\"adam\",\n",
        "                  metrics=['accuracy'])"
      ],
      "execution_count": 139,
      "outputs": []
    },
    {
      "cell_type": "code",
      "metadata": {
        "id": "nkezCzltZkaQ",
        "colab_type": "code",
        "colab": {}
      },
      "source": [
        "BATCH_SIZE=32\n",
        "train_data=train_data.cache().repeat().shuffle(num_train_examples).batch(BATCH_SIZE)\n",
        "test_data=test_data.cache().batch(BATCH_SIZE)"
      ],
      "execution_count": 140,
      "outputs": []
    },
    {
      "cell_type": "code",
      "metadata": {
        "id": "AZX7KsNFZ4QZ",
        "colab_type": "code",
        "colab": {
          "base_uri": "https://localhost:8080/",
          "height": 378
        },
        "outputId": "2fd047d9-32d1-4d08-e1fc-a75d1e5887c8"
      },
      "source": [
        "cnn_model.fit(train_data,epochs=10,steps_per_epoch=math.ceil(num_train_examples/BATCH_SIZE))"
      ],
      "execution_count": 141,
      "outputs": [
        {
          "output_type": "stream",
          "text": [
            "Epoch 1/10\n",
            "1875/1875 [==============================] - 13s 7ms/step - loss: 0.3787 - accuracy: 0.8626\n",
            "Epoch 2/10\n",
            "1875/1875 [==============================] - 13s 7ms/step - loss: 0.2382 - accuracy: 0.9114\n",
            "Epoch 3/10\n",
            "1875/1875 [==============================] - 13s 7ms/step - loss: 0.1920 - accuracy: 0.9288\n",
            "Epoch 4/10\n",
            "1875/1875 [==============================] - 13s 7ms/step - loss: 0.1576 - accuracy: 0.9419\n",
            "Epoch 5/10\n",
            "1875/1875 [==============================] - 14s 7ms/step - loss: 0.1303 - accuracy: 0.9520\n",
            "Epoch 6/10\n",
            "1875/1875 [==============================] - 13s 7ms/step - loss: 0.1048 - accuracy: 0.9610\n",
            "Epoch 7/10\n",
            "1875/1875 [==============================] - 13s 7ms/step - loss: 0.0933 - accuracy: 0.9656\n",
            "Epoch 8/10\n",
            "1875/1875 [==============================] - 13s 7ms/step - loss: 0.0757 - accuracy: 0.9720\n",
            "Epoch 9/10\n",
            "1875/1875 [==============================] - 13s 7ms/step - loss: 0.0674 - accuracy: 0.9754\n",
            "Epoch 10/10\n",
            "1875/1875 [==============================] - 13s 7ms/step - loss: 0.0571 - accuracy: 0.9792\n"
          ],
          "name": "stdout"
        },
        {
          "output_type": "execute_result",
          "data": {
            "text/plain": [
              "<tensorflow.python.keras.callbacks.History at 0x7f53000ba630>"
            ]
          },
          "metadata": {
            "tags": []
          },
          "execution_count": 141
        }
      ]
    },
    {
      "cell_type": "code",
      "metadata": {
        "id": "OQM6qtcrarLz",
        "colab_type": "code",
        "colab": {
          "base_uri": "https://localhost:8080/",
          "height": 51
        },
        "outputId": "b0c7e1ee-a7d8-4c0f-c0fe-9a6c97f00071"
      },
      "source": [
        "test_loss, test_accuracy = cnn_model.evaluate(test_data, steps=math.ceil(num_test_examples/32))\n",
        "print('Accuracy on test dataset:', test_accuracy)"
      ],
      "execution_count": 142,
      "outputs": [
        {
          "output_type": "stream",
          "text": [
            "313/313 [==============================] - 2s 7ms/step - loss: 0.3484 - accuracy: 0.9186\n",
            "Accuracy on test dataset: 0.9186000227928162\n"
          ],
          "name": "stdout"
        }
      ]
    }
  ]
}